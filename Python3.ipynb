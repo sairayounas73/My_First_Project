{
 "cells": [
  {
   "cell_type": "code",
   "execution_count": 1,
   "id": "87bc949b-2898-4346-98a0-b5682fa64b47",
   "metadata": {},
   "outputs": [
    {
     "name": "stdout",
     "output_type": "stream",
     "text": [
      "[1 2 3 4 5]\n"
     ]
    }
   ],
   "source": [
    "import numpy as np  \n",
    "arr=np.array([1,2,3,4,5])     # convert list into an array\n",
    "print(arr)"
   ]
  },
  {
   "cell_type": "code",
   "execution_count": 3,
   "id": "31e3b7af-e6e5-4251-8261-0b911f58b685",
   "metadata": {},
   "outputs": [
    {
     "name": "stdout",
     "output_type": "stream",
     "text": [
      "15\n"
     ]
    }
   ],
   "source": [
    "print(np.sum(arr))    # find sum of an array"
   ]
  },
  {
   "cell_type": "code",
   "execution_count": 4,
   "id": "8518759b-ca00-4d89-963d-495b399fbd12",
   "metadata": {},
   "outputs": [
    {
     "name": "stdout",
     "output_type": "stream",
     "text": [
      "3.0\n"
     ]
    }
   ],
   "source": [
    "print(np.mean(arr))    # find mean of an array"
   ]
  },
  {
   "cell_type": "code",
   "execution_count": 5,
   "id": "a98feec6-b962-43a8-a2d2-c062f2787b5d",
   "metadata": {},
   "outputs": [
    {
     "name": "stdout",
     "output_type": "stream",
     "text": [
      "[ 1  4  9 16 25]\n"
     ]
    }
   ],
   "source": [
    "print(arr**2)     # find squares of an array"
   ]
  },
  {
   "cell_type": "code",
   "execution_count": 23,
   "id": "bd94a2a6-a927-432b-b7d7-1b9081067109",
   "metadata": {},
   "outputs": [
    {
     "name": "stdout",
     "output_type": "stream",
     "text": [
      "[0. 0. 0. 0. 0.]\n"
     ]
    }
   ],
   "source": [
    "print(np.zeros(5))        "
   ]
  },
  {
   "cell_type": "code",
   "execution_count": 10,
   "id": "09315bd0-87fa-4cd8-b812-4a6612994371",
   "metadata": {},
   "outputs": [
    {
     "name": "stdout",
     "output_type": "stream",
     "text": [
      "[1. 1. 1. 1. 1. 1. 1. 1. 1. 1.]\n"
     ]
    }
   ],
   "source": [
    "print(np.ones(10))    "
   ]
  },
  {
   "cell_type": "code",
   "execution_count": 11,
   "id": "508affb6-5499-498d-8637-3a71f2f6b6ba",
   "metadata": {},
   "outputs": [
    {
     "name": "stdout",
     "output_type": "stream",
     "text": [
      "[[0. 0. 0. 0. 0. 0. 0. 0. 0. 0.]\n",
      " [0. 0. 0. 0. 0. 0. 0. 0. 0. 0.]\n",
      " [0. 0. 0. 0. 0. 0. 0. 0. 0. 0.]\n",
      " [0. 0. 0. 0. 0. 0. 0. 0. 0. 0.]\n",
      " [0. 0. 0. 0. 0. 0. 0. 0. 0. 0.]]\n"
     ]
    }
   ],
   "source": [
    "print(np.zeros((5,10)))"
   ]
  },
  {
   "cell_type": "code",
   "execution_count": 21,
   "id": "decc654b-2aa2-4820-9eb5-889637d9947d",
   "metadata": {},
   "outputs": [
    {
     "name": "stdout",
     "output_type": "stream",
     "text": [
      "[5 6 7 8 9]\n"
     ]
    }
   ],
   "source": [
    "print(np.arange(5,10))   # write numbers in an range"
   ]
  },
  {
   "cell_type": "code",
   "execution_count": 13,
   "id": "e3f84a84-d87d-457e-a306-778af6c23495",
   "metadata": {},
   "outputs": [
    {
     "name": "stdout",
     "output_type": "stream",
     "text": [
      "[1 3 5 7 9]\n"
     ]
    }
   ],
   "source": [
    "print(np.arange(1,10,2))  # write numbers in range with step"
   ]
  },
  {
   "cell_type": "code",
   "execution_count": 14,
   "id": "0fd82afb-72fe-41ee-b591-9e46cbfa845b",
   "metadata": {},
   "outputs": [
    {
     "name": "stdout",
     "output_type": "stream",
     "text": [
      "[ 0.  5. 10.]\n"
     ]
    }
   ],
   "source": [
    "print(np.linspace(0,10,3))    # Evenly spaced numbers"
   ]
  },
  {
   "cell_type": "code",
   "execution_count": 20,
   "id": "aab4b5f3-a7f1-43de-8ecb-4db677afc86b",
   "metadata": {},
   "outputs": [
    {
     "name": "stdout",
     "output_type": "stream",
     "text": [
      "10\n",
      "1\n"
     ]
    }
   ],
   "source": [
    "array=np.array([1,2,3,4,5,10])\n",
    "print(array.max())   # Find Maximum Value\n",
    "print(array.min())    # Finf Minimum Value"
   ]
  },
  {
   "cell_type": "code",
   "execution_count": 26,
   "id": "58b0e043-bebc-4d73-9ed2-ed36b08c34ba",
   "metadata": {},
   "outputs": [
    {
     "name": "stdout",
     "output_type": "stream",
     "text": [
      "[[ 1  2]\n",
      " [ 3  4]\n",
      " [ 5 10]]\n"
     ]
    }
   ],
   "source": [
    "array=np.array([1,2,3,4,5,10])\n",
    "a=array.reshape(3,2)    # change shape by dividing it.\n",
    "print(a)"
   ]
  },
  {
   "cell_type": "code",
   "execution_count": 31,
   "id": "a183692f-dd3f-411e-9ebd-aa24ae82501d",
   "metadata": {},
   "outputs": [
    {
     "name": "stdout",
     "output_type": "stream",
     "text": [
      "[1 3 4 6 8]\n"
     ]
    }
   ],
   "source": [
    "arr=np.array([2,5,6,1,8,3,2,10,9])\n",
    "list=[4,5,6]\n",
    "print(np.sort([4,6,8,1,3]))  # Sort Values "
   ]
  },
  {
   "cell_type": "code",
   "execution_count": 35,
   "id": "4fa997a8-5a63-45db-be69-241a48ab0933",
   "metadata": {},
   "outputs": [
    {
     "name": "stdout",
     "output_type": "stream",
     "text": [
      "[1 2 3 4 5 6]\n"
     ]
    }
   ],
   "source": [
    "a=np.array([1,2,3])\n",
    "b=np.array([4,5,6])\n",
    "c=np.concatenate((a,b))  # Concatenate two arrays\n",
    "print(c)"
   ]
  },
  {
   "cell_type": "code",
   "execution_count": 36,
   "id": "1e2bfd50-63b9-4c9b-ae37-fdb60df84bee",
   "metadata": {},
   "outputs": [
    {
     "name": "stdout",
     "output_type": "stream",
     "text": [
      "[ 1  2  3  8  9 10]\n"
     ]
    }
   ],
   "source": [
    "arr=np.array([2,2,1,1,8,3,8,10,9])\n",
    "print(np.unique(arr))  # Find Unique Values"
   ]
  },
  {
   "cell_type": "code",
   "execution_count": 41,
   "id": "361bb51b-a58a-4b6c-b3c3-0ce7b94d2f6d",
   "metadata": {
    "scrolled": true
   },
   "outputs": [
    {
     "name": "stdout",
     "output_type": "stream",
     "text": [
      "[[1 4]\n",
      " [2 5]\n",
      " [3 6]]\n"
     ]
    }
   ],
   "source": [
    "t=np.array([[1,2,3],[4,5,6]])\n",
    "print(np.transpose(t))  # Convet rows into columns"
   ]
  },
  {
   "cell_type": "code",
   "execution_count": 10,
   "id": "8ca2c731-94a2-4ef0-a62b-b20164be1581",
   "metadata": {},
   "outputs": [
    {
     "name": "stdout",
     "output_type": "stream",
     "text": [
      "[[14 32]\n",
      " [32 77]]\n"
     ]
    }
   ],
   "source": [
    "import numpy as np  \n",
    "a=np.array([[1,2,3],[4,5,6]])\n",
    "b=np.array([[1,2,3],[4,5,6]])\n",
    "c=np.dot(a,b.T)  # Dot Produt\n",
    "print(c)"
   ]
  },
  {
   "cell_type": "code",
   "execution_count": 13,
   "id": "574239e8-1eac-480c-8777-04c6f844023a",
   "metadata": {},
   "outputs": [
    {
     "name": "stdout",
     "output_type": "stream",
     "text": [
      "32\n"
     ]
    }
   ],
   "source": [
    "import numpy as np  \n",
    "a=np.array([1,2,3])\n",
    "b=np.array([4,5,6])\n",
    "\n",
    "c=np.dot(a,b)  # Dot Produt\n",
    "print(c)"
   ]
  },
  {
   "cell_type": "code",
   "execution_count": 5,
   "id": "13b67a0d-6880-4690-9be9-618154cd04c9",
   "metadata": {},
   "outputs": [
    {
     "name": "stdout",
     "output_type": "stream",
     "text": [
      "2.29128784747792\n"
     ]
    }
   ],
   "source": [
    "z=np.array([1,2,3,4,5,6,7,8])\n",
    "print(np.std(z))     # Find Standard Deviation"
   ]
  },
  {
   "cell_type": "code",
   "execution_count": 5,
   "id": "e4795063-eea6-4af4-8ea6-e4e518d37e15",
   "metadata": {},
   "outputs": [
    {
     "name": "stdout",
     "output_type": "stream",
     "text": [
      "[[1. 0. 0.]\n",
      " [0. 1. 0.]\n",
      " [0. 0. 1.]\n",
      " [0. 0. 0.]]\n"
     ]
    }
   ],
   "source": [
    "import numpy as np\n",
    "print(np.eye(4,3))   # Return n*n matrix and diagonal value 1 and others zeros"
   ]
  },
  {
   "cell_type": "markdown",
   "id": "5d3802d8-c031-48fc-9bc4-5332e54ae1de",
   "metadata": {},
   "source": []
  },
  {
   "cell_type": "code",
   "execution_count": 9,
   "id": "341b3a83-50a5-4f78-ae4f-409cc2cbbc2f",
   "metadata": {},
   "outputs": [
    {
     "name": "stdout",
     "output_type": "stream",
     "text": [
      "[[2 2 2 2]\n",
      " [2 2 2 2]\n",
      " [2 2 2 2]]\n"
     ]
    }
   ],
   "source": [
    "print(np.full((3,4),2))   # Make matrix and return Specific Value in matrixnp.clip"
   ]
  },
  {
   "cell_type": "code",
   "execution_count": 10,
   "id": "5a531034-1357-49e3-a496-608605c0c0f1",
   "metadata": {},
   "outputs": [
    {
     "name": "stdout",
     "output_type": "stream",
     "text": [
      "[ 3  3  3  5  6 10 12 14 15 15 15]\n"
     ]
    }
   ],
   "source": [
    "arr=np.array([1,2,3,5,6,10,12,14,15,18,19])\n",
    "print(np.clip(arr,3,15))    # write values in range "
   ]
  },
  {
   "cell_type": "code",
   "execution_count": 11,
   "id": "21d149c7-bf1d-4d1b-a8d8-71641aaa9d4c",
   "metadata": {},
   "outputs": [
    {
     "name": "stdout",
     "output_type": "stream",
     "text": [
      "(array([1, 2, 3]),)\n"
     ]
    }
   ],
   "source": [
    "arr=np.array([10,20,30,40])\n",
    "print(np.where(arr>10))  # retyrn index based on condition"
   ]
  },
  {
   "cell_type": "code",
   "execution_count": 13,
   "id": "8cf8039b-2cd6-42eb-acaa-25ae98d500f6",
   "metadata": {},
   "outputs": [
    {
     "name": "stdout",
     "output_type": "stream",
     "text": [
      "[ 0  0 30 40]\n"
     ]
    }
   ],
   "source": [
    "print(np.where(arr>20,arr,0))"
   ]
  },
  {
   "cell_type": "code",
   "execution_count": 14,
   "id": "fa91d0b4-9310-4b24-a123-7e078dc2341f",
   "metadata": {},
   "outputs": [
    {
     "name": "stdout",
     "output_type": "stream",
     "text": [
      "['Pass' 'Pass' 'Pass' 'Pass' 'Pass' 'Fail' 'Fail' 'Fail' 'Fail' 'Pass']\n"
     ]
    }
   ],
   "source": [
    "marks=np.array([50,60,70,90,100,30,40,20,10,110])\n",
    "print(np.where(marks>=50,\"Pass\",\"Fail\"))"
   ]
  },
  {
   "cell_type": "code",
   "execution_count": 16,
   "id": "35ecf930-7c23-4e00-a79a-fe58aa0ce8d3",
   "metadata": {},
   "outputs": [
    {
     "name": "stdout",
     "output_type": "stream",
     "text": [
      "[[ 5 -1  6 -1]\n",
      " [ 7  8 -1  6]]\n"
     ]
    }
   ],
   "source": [
    "arr=np.array([[5,4,6,1],[7,8,1,6]])\n",
    "print(np.where(arr<5,-1,arr))"
   ]
  },
  {
   "cell_type": "code",
   "execution_count": 18,
   "id": "243adf1d-7632-424d-b0fa-f286cdf214fa",
   "metadata": {},
   "outputs": [
    {
     "name": "stdout",
     "output_type": "stream",
     "text": [
      "[4 3 3 4 5]\n"
     ]
    }
   ],
   "source": [
    "arr=np.array([-4,-3,3,4,-5])\n",
    "print(np.where(arr<0,-arr,arr))  # Convert Negative Values to Positive"
   ]
  },
  {
   "cell_type": "code",
   "execution_count": 19,
   "id": "67e42b7b-d5b3-41e3-a75a-975a6bee1e50",
   "metadata": {},
   "outputs": [
    {
     "name": "stdout",
     "output_type": "stream",
     "text": [
      "[10 20 25]\n"
     ]
    }
   ],
   "source": [
    "a=np.array([10,15,20])\n",
    "b=np.array([5,20,25])\n",
    "max=np.where(a>b,a,b)   # Return Maximum values\n",
    "print(max)"
   ]
  },
  {
   "cell_type": "code",
   "execution_count": 20,
   "id": "f97fd2f7-6e60-40f0-98bf-1d594996b66e",
   "metadata": {},
   "outputs": [
    {
     "name": "stdout",
     "output_type": "stream",
     "text": [
      "2\n"
     ]
    }
   ],
   "source": [
    "arr=np.array([1,2,7,3,5])\n",
    "print(np.argmax(arr))  # Find index of maximum Value"
   ]
  },
  {
   "cell_type": "code",
   "execution_count": 21,
   "id": "83fd850f-ab0d-4b75-b2ff-2695b583e0ab",
   "metadata": {},
   "outputs": [
    {
     "name": "stdout",
     "output_type": "stream",
     "text": [
      "0\n"
     ]
    }
   ],
   "source": [
    "arr=np.array([1,2,7,3,5])\n",
    "print(np.argmin(arr))  # Find index of minimum Value"
   ]
  },
  {
   "cell_type": "code",
   "execution_count": 22,
   "id": "3c513586-ed37-4adb-b2aa-08b0203cbd9d",
   "metadata": {},
   "outputs": [
    {
     "name": "stdout",
     "output_type": "stream",
     "text": [
      "[ 1  3 10 13 18]\n"
     ]
    }
   ],
   "source": [
    "arr=np.array([1,2,7,3,5])\n",
    "print(np.cumsum(arr))  # find Commulative Sum"
   ]
  },
  {
   "cell_type": "code",
   "execution_count": 24,
   "id": "3ddd7bf0-b3f3-4ddd-a23b-49431e53eeb1",
   "metadata": {
    "scrolled": true
   },
   "outputs": [
    {
     "name": "stdout",
     "output_type": "stream",
     "text": [
      "6\n"
     ]
    }
   ],
   "source": [
    "arr=np.array([1,2,3])\n",
    "print(np.prod(arr))   # Find Product of all Values"
   ]
  },
  {
   "cell_type": "code",
   "execution_count": 25,
   "id": "79723e9a-8838-463e-b19d-046f99e24f03",
   "metadata": {},
   "outputs": [
    {
     "name": "stdout",
     "output_type": "stream",
     "text": [
      "[ 3.14 12.13  3.46]\n"
     ]
    }
   ],
   "source": [
    "arr=np.array([3.141,12.13455,3.4567])\n",
    "print(np.round(arr,2))  # Round values"
   ]
  },
  {
   "cell_type": "code",
   "execution_count": 30,
   "id": "0577ea78-f491-4c2f-a59b-d7aeefb0feb3",
   "metadata": {},
   "outputs": [
    {
     "name": "stdout",
     "output_type": "stream",
     "text": [
      "[0.59366108 0.41505219 0.16921992 0.87064682 0.57660761]\n"
     ]
    }
   ],
   "source": [
    "print(np.random.rand(5))   # Generate Random Numbers"
   ]
  },
  {
   "cell_type": "code",
   "execution_count": null,
   "id": "3fb92cf9-8c37-406b-b4e6-00d5bb8ea05f",
   "metadata": {},
   "outputs": [],
   "source": []
  },
  {
   "cell_type": "code",
   "execution_count": 31,
   "id": "49ee417f-f841-4132-8c59-a632459fe47d",
   "metadata": {},
   "outputs": [
    {
     "name": "stdout",
     "output_type": "stream",
     "text": [
      "[[1. 0. 0.]\n",
      " [0. 1. 0.]\n",
      " [0. 0. 1.]]\n"
     ]
    }
   ],
   "source": [
    "print(np.identity(3))  # make Square Identity Matrix\n"
   ]
  },
  {
   "cell_type": "code",
   "execution_count": 32,
   "id": "81c5af27-6a62-49e1-8aaf-54a1a46c0591",
   "metadata": {},
   "outputs": [
    {
     "name": "stdout",
     "output_type": "stream",
     "text": [
      "9\n"
     ]
    }
   ],
   "source": [
    "arr=np.array([10,1,2,3,4,7,8])\n",
    "print(np.ptp(arr))   # find difference of maximum and minimum value."
   ]
  },
  {
   "cell_type": "code",
   "execution_count": 34,
   "id": "e4a9f5ea-1fdd-4d0c-bc10-b1bc2ebe5081",
   "metadata": {},
   "outputs": [
    {
     "name": "stdout",
     "output_type": "stream",
     "text": [
      "True\n",
      "False\n"
     ]
    }
   ],
   "source": [
    "a=np.array([1,2,3])\n",
    "b=np.array([1,2,3])\n",
    "c=np.array([10,1,2,3,4,7,8])\n",
    "print(np.array_equal(a,b)) # Check if array equal retun true other false\n",
    "print(np.array_equal(a,c))\n",
    "\n",
    "\n",
    "\n"
   ]
  },
  {
   "cell_type": "code",
   "execution_count": 36,
   "id": "79dfb622-ffa0-48b8-9677-8ccb5f871263",
   "metadata": {},
   "outputs": [
    {
     "name": "stdout",
     "output_type": "stream",
     "text": [
      "False\n"
     ]
    }
   ],
   "source": [
    "# any check non zero num in arr if exit retrn true\n",
    "a=np.array([0,0,0])\n",
    "print(np.any(a))"
   ]
  },
  {
   "cell_type": "code",
   "execution_count": 38,
   "id": "21f74fa0-c10e-4de3-b5e9-060dc4f21f43",
   "metadata": {},
   "outputs": [
    {
     "name": "stdout",
     "output_type": "stream",
     "text": [
      "[1 2 3 1 2 3 1 2 3]\n"
     ]
    }
   ],
   "source": [
    "print(np.tile([1,2,3],3))  # Incerese the size of an array by repeating exisying values"
   ]
  },
  {
   "cell_type": "code",
   "execution_count": 40,
   "id": "61241fd0-d23b-4731-8dca-af3fc88db73c",
   "metadata": {},
   "outputs": [
    {
     "name": "stdout",
     "output_type": "stream",
     "text": [
      "[[1 0 0]\n",
      " [4 5 0]\n",
      " [7 8 9]]\n"
     ]
    }
   ],
   "source": [
    "# tril return lower triangular part of an matrix\n",
    "arr=np.array(\n",
    "    [[1,2,3],\n",
    "    [4,5,6],\n",
    "    [7,8,9]]\n",
    ")\n",
    "print(np.tril(arr))"
   ]
  },
  {
   "cell_type": "code",
   "execution_count": 15,
   "id": "bf159160-ca1c-4678-8505-195d7bfbaf6e",
   "metadata": {},
   "outputs": [
    {
     "name": "stdout",
     "output_type": "stream",
     "text": [
      "[[1 2 3]\n",
      " [4 5 6]]\n"
     ]
    }
   ],
   "source": [
    "arr1=np.array([[1,2,3],[4,5,6]])\n",
    "print(arr1)\n",
    "\n"
   ]
  },
  {
   "cell_type": "code",
   "execution_count": 18,
   "id": "89fc2963-d885-4b14-8439-b10cdca3281c",
   "metadata": {},
   "outputs": [
    {
     "name": "stdout",
     "output_type": "stream",
     "text": [
      "[[[1 2 3]\n",
      "  [4 5 6]]\n",
      "\n",
      " [[7 8 9]\n",
      "  [1 2 3]]]\n"
     ]
    }
   ],
   "source": [
    "arr1=np.array([[[1,2,3],[4,5,6]],[[7,8,9],[1,2,3]]])\n",
    "print(arr1)"
   ]
  },
  {
   "cell_type": "code",
   "execution_count": 22,
   "id": "cc77f21f-6308-40b1-bf4f-ef6676ef708e",
   "metadata": {},
   "outputs": [
    {
     "name": "stdout",
     "output_type": "stream",
     "text": [
      "[[1 2 3]\n",
      " [4 5 6]]\n",
      "[[7 8 9]\n",
      " [1 2 3]]\n"
     ]
    }
   ],
   "source": [
    "arr1=np.array([1,2,3])\n",
    "arr2=np.array([4,5,6])\n",
    "arr3=np.array([7,8,9])\n",
    "arr4=np.array([1,2,3])\n",
    "combined=np.vstack((arr1,arr2))\n",
    "combined1=np.vstack((arr3,arr4))\n",
    "print(combined)\n",
    "print(combined1)"
   ]
  },
  {
   "cell_type": "code",
   "execution_count": 27,
   "id": "f9d4b8e1-d784-4efb-b728-960febbfdca0",
   "metadata": {},
   "outputs": [
    {
     "name": "stdout",
     "output_type": "stream",
     "text": [
      "(2, 3)\n",
      "(2, 3)\n"
     ]
    }
   ],
   "source": [
    "pr"
   ]
  },
  {
   "cell_type": "code",
   "execution_count": 25,
   "id": "9989480a-7b99-4900-8ea0-4f5ca37ecdc6",
   "metadata": {},
   "outputs": [
    {
     "name": "stdout",
     "output_type": "stream",
     "text": [
      "[[[1 2 3]\n",
      "  [4 5 6]]\n",
      "\n",
      " [[7 8 9]\n",
      "  [1 2 3]]]\n"
     ]
    }
   ],
   "source": [
    "combined3=np.stack((combined,combined1))\n",
    "print(combined3)"
   ]
  },
  {
   "cell_type": "code",
   "execution_count": 26,
   "id": "6e71a798-1fe3-499a-9505-fbb2c6091e5e",
   "metadata": {},
   "outputs": [
    {
     "name": "stdout",
     "output_type": "stream",
     "text": [
      "(2, 2, 3)\n"
     ]
    }
   ],
   "source": [
    "print(combined3.shape)"
   ]
  },
  {
   "cell_type": "code",
   "execution_count": 46,
   "id": "d4ab18e7-cec9-42a6-bac6-5e48cf180826",
   "metadata": {},
   "outputs": [
    {
     "name": "stdout",
     "output_type": "stream",
     "text": [
      "[[1 2 3]\n",
      " [4 5 6]\n",
      " [7 8 9]]\n",
      "[1 2 3 4 5 6 7 8 9]\n"
     ]
    }
   ],
   "source": [
    "arr=np.array([1,2,3,4,5,6,7,8,9])\n",
    "\n",
    "a=arr.reshape(3,3)\n",
    "\n",
    "\n",
    "print(a)\n",
    "b=a.reshape(3,1,3)\n",
    "print(b.flatten())\n",
    "\n",
    "\n"
   ]
  },
  {
   "cell_type": "code",
   "execution_count": 37,
   "id": "72924083-b930-400b-9bb1-9d1416682243",
   "metadata": {},
   "outputs": [
    {
     "name": "stdout",
     "output_type": "stream",
     "text": [
      "[[[1 2 3]]\n",
      "\n",
      " [[4 5 6]]\n",
      "\n",
      " [[7 8 9]]]\n"
     ]
    }
   ],
   "source": [
    "arr=np.array([1,2,3,4,5,6,7,8,9])\n",
    "print(arr.reshape(3,1,3))"
   ]
  },
  {
   "cell_type": "code",
   "execution_count": 39,
   "id": "2a5aef9a-36b2-469f-8752-30f3d6db562a",
   "metadata": {},
   "outputs": [
    {
     "name": "stdout",
     "output_type": "stream",
     "text": [
      "[1 2 3 4 5 6]\n"
     ]
    }
   ],
   "source": [
    "arr=np.array([[1,2,3],[4,5,6]])\n",
    "print(arr.flatten())"
   ]
  },
  {
   "cell_type": "code",
   "execution_count": 43,
   "id": "fefd8a4f-a728-4afa-be5e-896ab2170641",
   "metadata": {},
   "outputs": [],
   "source": [
    "arr=np.array([[[1,2,3],[4,5,6]],[[1,2,3],[4,5,6]]])"
   ]
  },
  {
   "cell_type": "code",
   "execution_count": 44,
   "id": "e9a70f2c-dad3-4509-8293-b6cb17a71d34",
   "metadata": {},
   "outputs": [
    {
     "name": "stdout",
     "output_type": "stream",
     "text": [
      "[1 2 3 4 5 6 1 2 3 4 5 6]\n"
     ]
    }
   ],
   "source": [
    "print(arr.flatten())"
   ]
  },
  {
   "cell_type": "code",
   "execution_count": null,
   "id": "158995d8-1ea8-47b1-903f-15509f612865",
   "metadata": {},
   "outputs": [],
   "source": []
  }
 ],
 "metadata": {
  "kernelspec": {
   "display_name": "Python [conda env:base] *",
   "language": "python",
   "name": "conda-base-py"
  },
  "language_info": {
   "codemirror_mode": {
    "name": "ipython",
    "version": 3
   },
   "file_extension": ".py",
   "mimetype": "text/x-python",
   "name": "python",
   "nbconvert_exporter": "python",
   "pygments_lexer": "ipython3",
   "version": "3.13.5"
  }
 },
 "nbformat": 4,
 "nbformat_minor": 5
}
