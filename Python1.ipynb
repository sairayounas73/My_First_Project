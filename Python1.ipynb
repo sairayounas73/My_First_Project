{
 "cells": [
  {
   "cell_type": "markdown",
   "id": "2765dddf-53c4-473d-9c2d-4d84630888ea",
   "metadata": {},
   "source": [
    "Students Grade Calculator"
   ]
  },
  {
   "cell_type": "code",
   "execution_count": null,
   "id": "afffdee6-db78-46ba-8156-b6d96c9a4d1e",
   "metadata": {},
   "outputs": [],
   "source": [
    "s1=int(input(\"Enter Python Marks\"))"
   ]
  },
  {
   "cell_type": "code",
   "execution_count": null,
   "id": "7f5c0e49-c40b-44fc-a1e2-353070b96c78",
   "metadata": {},
   "outputs": [],
   "source": [
    "s2=int(input(\"Enter JS Marks\"))"
   ]
  },
  {
   "cell_type": "code",
   "execution_count": null,
   "id": "596216b2-59cb-4cbe-9ade-6ae60d86aa3b",
   "metadata": {},
   "outputs": [],
   "source": [
    "s3=s1=int(input(\"Enter Phy Marks\"))"
   ]
  },
  {
   "cell_type": "code",
   "execution_count": null,
   "id": "94c0b77a-f00c-47dd-8ed3-0f48fa65fe56",
   "metadata": {},
   "outputs": [],
   "source": [
    "sum=s1+s2+s3"
   ]
  },
  {
   "cell_type": "code",
   "execution_count": null,
   "id": "79efe06b-8e71-436f-bf7b-47786bb90ea1",
   "metadata": {},
   "outputs": [],
   "source": [
    "sum"
   ]
  },
  {
   "cell_type": "code",
   "execution_count": null,
   "id": "ea3fd44a-570f-4b09-ae2b-58db3dddaa91",
   "metadata": {},
   "outputs": [],
   "source": [
    "avg=sum/3"
   ]
  },
  {
   "cell_type": "code",
   "execution_count": null,
   "id": "f0587ddd-448b-4db8-9cdf-6070c595848a",
   "metadata": {},
   "outputs": [],
   "source": [
    "avg"
   ]
  },
  {
   "cell_type": "code",
   "execution_count": null,
   "id": "1cbb72fc-8f69-4caa-9668-5886df5e7941",
   "metadata": {},
   "outputs": [],
   "source": [
    "if avg<40:\n",
    "    print(\"Fail ang Got AVG \",avg)\n",
    "elif avg>=40 and avg<50:\n",
    "    print(\"PASS and Got grade D AVG \",avg)\n",
    "elif avg>=50 and avg<60:\n",
    "    print(\"PASS and Got grade C AVG \",avg)\n",
    "elif avg>=60 and avg<80:\n",
    "    print(\"PASS and Got grade B AVG \",avg)\n",
    "elif avg>=80 and avg<100:\n",
    "    print(\"PASS and Got grade A AVG \",avg)\n",
    "else:\n",
    "    print(\"Inavlid input\")\n",
    "    "
   ]
  },
  {
   "cell_type": "code",
   "execution_count": null,
   "id": "d6265c01-8f3b-4421-8ae8-d714f337d268",
   "metadata": {},
   "outputs": [],
   "source": [
    "unit=int((input(\"Enter Consumed unit\")))"
   ]
  },
  {
   "cell_type": "code",
   "execution_count": null,
   "id": "2919f22f-d66f-4908-bae4-c860759a8ba3",
   "metadata": {},
   "outputs": [],
   "source": [
    "bill=1\n",
    "if unit<=100:\n",
    "    bill=unit*30\n",
    "elif unit<=200:\n",
    "    bill=100*30+(unit-100)*40\n",
    "elif unit<=300:\n",
    "    bill=100*30+100*40+(unit-200)*60\n",
    "else:\n",
    "    bill=100*30+100*40+100*60+(unit-300)*80\n",
    "if bill>=10000:\n",
    "    tax=bill*0.10\n",
    "    bill=bill+tax\n",
    "    print(\"Total bill is \",bill,\" and consumed units are \",unit )\n",
    "\n"
   ]
  },
  {
   "cell_type": "code",
   "execution_count": 4,
   "id": "f484fd6a-d10c-4349-9bf5-a36ab585f18c",
   "metadata": {},
   "outputs": [
    {
     "name": "stdout",
     "output_type": "stream",
     "text": [
      "3\n",
      "6\n",
      "9\n",
      "12\n",
      "15\n",
      "18\n",
      "21\n",
      "24\n",
      "27\n",
      "30\n",
      "33\n",
      "36\n",
      "39\n",
      "42\n",
      "45\n",
      "48\n"
     ]
    }
   ],
   "source": [
    "i=1\n",
    "while i<=50:\n",
    "    if (i%3==0 and i%5==0) or i%3==0:\n",
    "        print(i)\n",
    "    i+=1\n",
    "    "
   ]
  },
  {
   "cell_type": "code",
   "execution_count": 6,
   "id": "d6adee71-3d35-48e1-aaae-e30b4246eb72",
   "metadata": {},
   "outputs": [
    {
     "name": "stdin",
     "output_type": "stream",
     "text": [
      "Enter n 5\n"
     ]
    }
   ],
   "source": [
    "n=int(input(\"Enter n\"))\n",
    "r=1\n",
    "while n>=1:\n",
    "    r=r*n\n",
    "    \n",
    "    n-=1"
   ]
  },
  {
   "cell_type": "code",
   "execution_count": 7,
   "id": "6bafe962-a923-43f6-80f6-e4f008940171",
   "metadata": {},
   "outputs": [
    {
     "name": "stdout",
     "output_type": "stream",
     "text": [
      "120\n"
     ]
    }
   ],
   "source": [
    "print(r)"
   ]
  },
  {
   "cell_type": "code",
   "execution_count": 11,
   "id": "9076e503-41a8-49ec-8bdf-9f519bb86245",
   "metadata": {},
   "outputs": [
    {
     "name": "stdout",
     "output_type": "stream",
     "text": [
      "2\n",
      "4\n",
      "6\n",
      "8\n"
     ]
    }
   ],
   "source": [
    "for i in range(1,10):\n",
    "    if i%2==0:\n",
    "        print(i)"
   ]
  },
  {
   "cell_type": "code",
   "execution_count": 13,
   "id": "31b71082-22bb-4b06-8116-0c95b3101353",
   "metadata": {},
   "outputs": [],
   "source": [
    "def Sum():\n",
    "    n1=int(input(\"Enter N1\"))\n",
    "    n2=int(input(\"Enter N2\"))\n",
    "    sum=n1+n2\n",
    "    print(sum)"
   ]
  },
  {
   "cell_type": "code",
   "execution_count": 14,
   "id": "eaf1ecb7-1eab-4eed-9383-217ce8a1e9da",
   "metadata": {},
   "outputs": [
    {
     "name": "stdin",
     "output_type": "stream",
     "text": [
      "Enter N1 90\n",
      "Enter N2 56\n"
     ]
    },
    {
     "name": "stdout",
     "output_type": "stream",
     "text": [
      "146\n"
     ]
    }
   ],
   "source": [
    "Sum()"
   ]
  },
  {
   "cell_type": "code",
   "execution_count": 15,
   "id": "b46c76c0-134f-471d-9c47-40c269e25c7e",
   "metadata": {},
   "outputs": [
    {
     "name": "stdin",
     "output_type": "stream",
     "text": [
      "Enter N1 90\n",
      "Enter N2 45\n"
     ]
    },
    {
     "name": "stdout",
     "output_type": "stream",
     "text": [
      "135\n"
     ]
    }
   ],
   "source": [
    "Sum()"
   ]
  },
  {
   "cell_type": "code",
   "execution_count": 19,
   "id": "b12cba4c-1dd1-43bf-ba26-9915a35435d8",
   "metadata": {},
   "outputs": [],
   "source": [
    "def Sum1(x,y):\n",
    "\n",
    "    sum=x+y\n",
    "    return sum"
   ]
  },
  {
   "cell_type": "code",
   "execution_count": 21,
   "id": "514c90f1-2384-42b3-8087-bc56a3b98710",
   "metadata": {},
   "outputs": [],
   "source": [
    "x=Sum1(56,89)"
   ]
  },
  {
   "cell_type": "code",
   "execution_count": 18,
   "id": "15cb9123-10df-4148-ba1f-ae23bae8724a",
   "metadata": {},
   "outputs": [
    {
     "name": "stdin",
     "output_type": "stream",
     "text": [
      "Enter N1 90\n",
      "Enter N2 67\n"
     ]
    },
    {
     "name": "stdout",
     "output_type": "stream",
     "text": [
      "157\n"
     ]
    }
   ],
   "source": [
    "y=Sum()"
   ]
  },
  {
   "cell_type": "code",
   "execution_count": null,
   "id": "ae7fc936-178d-4dda-a1db-ae85f0ef920c",
   "metadata": {},
   "outputs": [],
   "source": []
  }
 ],
 "metadata": {
  "kernelspec": {
   "display_name": "Python [conda env:base] *",
   "language": "python",
   "name": "conda-base-py"
  },
  "language_info": {
   "codemirror_mode": {
    "name": "ipython",
    "version": 3
   },
   "file_extension": ".py",
   "mimetype": "text/x-python",
   "name": "python",
   "nbconvert_exporter": "python",
   "pygments_lexer": "ipython3",
   "version": "3.13.5"
  }
 },
 "nbformat": 4,
 "nbformat_minor": 5
}
